{
 "cells": [
  {
   "cell_type": "markdown",
   "metadata": {},
   "source": [
    "## 2019/09/17 Homework 1\n",
    "\n",
    "## Submit it by the end of 2019/09/23 on Blackboard.\n",
    "\n",
    "## Grading: total 100 points.\n"
   ]
  },
  {
   "cell_type": "markdown",
   "metadata": {},
   "source": [
    "### 1. Numpy Arrays:  14 points"
   ]
  },
  {
   "cell_type": "raw",
   "metadata": {},
   "source": [
    "1) create 1 array of 10 zeros, 1 array of 10 fives. - 2 points"
   ]
  },
  {
   "cell_type": "code",
   "execution_count": 116,
   "metadata": {},
   "outputs": [
    {
     "name": "stdout",
     "output_type": "stream",
     "text": [
      "Array of 10 zeros:\n",
      "[0 0 0 0 0 0 0 0 0 0]\n",
      "Array of 10 fives:\n",
      "[5 5 5 5 5 5 5 5 5 5]\n",
      "Array of 10 zeros:\n",
      "[0 0 0 0 0 0 0 0 0 0]\n",
      "Array of 10 fives:\n",
      "[5 5 5 5 5 5 5 5 5 5]\n"
     ]
    }
   ],
   "source": [
    "import numpy as np\n",
    "\n",
    "#Method -1:\n",
    "zero1 = np.zeros(10,dtype=int)\n",
    "print(\"Array of 10 zeros:\")\n",
    "print(zero1)\n",
    "five1 = np.ones((10),dtype=int)*5\n",
    "print(\"Array of 10 fives:\")\n",
    "print(five1)\n",
    "\n",
    "#Method -2:\n",
    "zero2 = np.full(10,0)\n",
    "print(\"Array of 10 zeros:\")\n",
    "print(zero2)\n",
    "five2 = np.full(10,5)\n",
    "print(\"Array of 10 fives:\")\n",
    "print(five2)"
   ]
  },
  {
   "cell_type": "raw",
   "metadata": {},
   "source": [
    "2) create a 3x3x3 array filled with arbitrary values. - 2 points"
   ]
  },
  {
   "cell_type": "code",
   "execution_count": 10,
   "metadata": {},
   "outputs": [
    {
     "name": "stdout",
     "output_type": "stream",
     "text": [
      "A 3x3x3 array with arbitary values:\n",
      "[[[0.95537418 0.81758215 0.05114544]\n",
      "  [0.57809995 0.90916897 0.56682536]\n",
      "  [0.09003148 0.65946283 0.24944107]]\n",
      "\n",
      " [[0.96662518 0.7850597  0.62342169]\n",
      "  [0.49084208 0.51947981 0.15397978]\n",
      "  [0.18566632 0.6519075  0.74913783]]\n",
      "\n",
      " [[0.56070805 0.25566241 0.27848238]\n",
      "  [0.47553749 0.34505189 0.82508621]\n",
      "  [0.1556269  0.14624245 0.99353809]]]\n"
     ]
    }
   ],
   "source": [
    "import numpy as np\n",
    "array = np.random.random((3, 3, 3))\n",
    "print(\"A 3x3x3 array with arbitary values:\")\n",
    "print(array)"
   ]
  },
  {
   "cell_type": "raw",
   "metadata": {},
   "source": [
    "3) create an array with the values 1, 7, 13, 105, 208 and determine the size of the memory occupied by the array. - 2 ponits"
   ]
  },
  {
   "cell_type": "code",
   "execution_count": 17,
   "metadata": {},
   "outputs": [
    {
     "name": "stdout",
     "output_type": "stream",
     "text": [
      "The array is: [  1   7  13 105 208]\n",
      "The size of the array is: 20 bytes\n"
     ]
    }
   ],
   "source": [
    "array = np.array([1,7,13,105,208])\n",
    "print(\"The array is:\",array)\n",
    "print(\"The size of the array is:\",\"%d bytes\" % (array.size * array.itemsize))"
   ]
  },
  {
   "cell_type": "raw",
   "metadata": {},
   "source": [
    "4) create a 3x4 matrix filled with values from 10 to 21. - 2 ponits"
   ]
  },
  {
   "cell_type": "code",
   "execution_count": 24,
   "metadata": {},
   "outputs": [
    {
     "name": "stdout",
     "output_type": "stream",
     "text": [
      "The 3x4 matrix filled with values from 10 to 21 are:\n",
      "[[10 11 12 13]\n",
      " [14 15 16 17]\n",
      " [18 19 20 21]]\n"
     ]
    }
   ],
   "source": [
    "matrix = np.arange(10,22).reshape((3,4))\n",
    "print(\"The 3x4 matrix filled with values from 10 to 21 are:\")\n",
    "print(matrix)"
   ]
  },
  {
   "cell_type": "raw",
   "metadata": {},
   "source": [
    "5) create an 4x4 matrix in which 0 and 1 are staggered, with zeros on the main diagonal. 4 points"
   ]
  },
  {
   "cell_type": "code",
   "execution_count": 117,
   "metadata": {},
   "outputs": [
    {
     "name": "stdout",
     "output_type": "stream",
     "text": [
      "The matrix is:\n",
      "[[0. 1. 0. 1.]\n",
      " [1. 0. 1. 0.]\n",
      " [0. 1. 0. 1.]\n",
      " [1. 0. 1. 0.]]\n"
     ]
    }
   ],
   "source": [
    "matrix = np.full(16,1).reshape((4,4))\n",
    "matrix = np.zeros((4, 4))\n",
    "matrix[::2, 1::2] = 1\n",
    "matrix[1::2, ::2] = 1\n",
    "print(\"The matrix is:\")\n",
    "print(matrix)"
   ]
  },
  {
   "cell_type": "raw",
   "metadata": {},
   "source": [
    "6) Append values to the end of an array: 2 points\n",
    "\n",
    "Original array: [10, 20, 30]; append two arrays to it: [40, 50, 60], [70, 80, 90]\n",
    "\n",
    "Expected output:\n",
    "Original array: [10, 20, 30]\n",
    "After append values to the end of the array:\n",
    "[10 20 30 40 50 60 70 80 90]"
   ]
  },
  {
   "cell_type": "code",
   "execution_count": 123,
   "metadata": {},
   "outputs": [
    {
     "name": "stdout",
     "output_type": "stream",
     "text": [
      "Method-1\n",
      "Original array:\n",
      "[10, 20, 30]\n",
      "After append values to the end of the array:\n",
      "[10 20 30 40 50 60 70 80 90]\n",
      " \n",
      "Method-2\n",
      "Original array:\n",
      "[10, 20, 30]\n",
      "After append values to the end of the array:\n",
      "[10 20 30 40 50 60 70 80 90]\n"
     ]
    }
   ],
   "source": [
    "print(\"Method-1\")\n",
    "array = [10, 20, 30]\n",
    "print(\"Original array:\")\n",
    "print(array)\n",
    "array_main= np.append(array, [[40, 50, 60], [70, 80, 90]])\n",
    "print(\"After append values to the end of the array:\")\n",
    "print(array_main)\n",
    "print(\" \")\n",
    "#Method-2\n",
    "print(\"Method-2\")\n",
    "array_new  = np.array([10,20,30])\n",
    "array1 = np.array([40,50,60])\n",
    "array2 = np.array([70,80,90])\n",
    "\n",
    "final_arr =  np.hstack([array_new, array1,array2])\n",
    "print(\"Original array:\")\n",
    "print(array)\n",
    "print(\"After append values to the end of the array:\")\n",
    "print(final_arr)"
   ]
  },
  {
   "cell_type": "markdown",
   "metadata": {},
   "source": [
    "\n",
    "### 2. Create a random array with 1000 elements and compute the average, variance, standard deviation of the array elements. 3 points\n"
   ]
  },
  {
   "cell_type": "code",
   "execution_count": 46,
   "metadata": {},
   "outputs": [
    {
     "name": "stdout",
     "output_type": "stream",
     "text": [
      "Mean is:\n",
      "0.5092323408554137\n",
      "Standard deviation of the array elements:\n",
      "0.28661649556247526\n",
      "Variance of the array elements:\n",
      "0.08214901552851439\n"
     ]
    }
   ],
   "source": [
    "array = np.random.random(1000)\n",
    "print(\"Mean is:\")\n",
    "mean = array.mean()\n",
    "print(mean)\n",
    "print(\"Standard deviation of the array elements:\")\n",
    "stan_dev = array.std()\n",
    "print(stan_dev)\n",
    "print(\"Variance of the array elements:\")\n",
    "var = array.var()\n",
    "print(var)\n"
   ]
  },
  {
   "cell_type": "markdown",
   "metadata": {},
   "source": [
    "\n",
    "### 3. Compute the trigonometric sine, cosine and tangent array of angles given in degrees. 3 points\n",
    "   Sample degree: 0, 30, 45, 60, 90\n",
    "   \n",
    "Expected Output:\n",
    "sine: array of angles given in degrees\n",
    "\n",
    "[0.         0.5        0.70710678 0.8660254  1.        ]\n",
    "cosine: array of angles given in degrees\n",
    "\n",
    "[1.00000000e+00 8.66025404e-01 7.07106781e-01 5.00000000e-01 6.12323400e-17]\n",
    "tangent: array of angles given in degrees\n",
    "\n",
    "[0.00000000e+00 5.77350269e-01 1.00000000e+00 1.73205081e+00 1.63312394e+16]"
   ]
  },
  {
   "cell_type": "code",
   "execution_count": 47,
   "metadata": {},
   "outputs": [
    {
     "name": "stdout",
     "output_type": "stream",
     "text": [
      "sine: array of angles given in degrees\n",
      "[0.         0.5        0.70710678 0.8660254  1.        ]\n",
      "cosine: array of angles given in degrees\n",
      "[1.00000000e+00 8.66025404e-01 7.07106781e-01 5.00000000e-01\n",
      " 6.12323400e-17]\n",
      "tangent: array of angles given in degrees\n",
      "[0.00000000e+00 5.77350269e-01 1.00000000e+00 1.73205081e+00\n",
      " 1.63312394e+16]\n"
     ]
    }
   ],
   "source": [
    "print(\"sine: array of angles given in degrees\")\n",
    "print(np.sin(np.array((0., 30., 45., 60., 90.)) * np.pi / 180.))\n",
    "print(\"cosine: array of angles given in degrees\")\n",
    "print(np.cos(np.array((0., 30., 45., 60., 90.)) * np.pi / 180.))\n",
    "print(\"tangent: array of angles given in degrees\")\n",
    "print(np.tan(np.array((0., 30., 45., 60., 90.)) * np.pi / 180.))"
   ]
  },
  {
   "cell_type": "markdown",
   "metadata": {},
   "source": [
    "### 4. Array Slicing: 5 questions, 20 points,4 points each\n",
    "Given an array:\n",
    "array([ 3,  6,  9,  25, 10,  8])"
   ]
  },
  {
   "cell_type": "code",
   "execution_count": null,
   "metadata": {},
   "outputs": [],
   "source": []
  },
  {
   "cell_type": "raw",
   "metadata": {},
   "source": [
    "1) To get all elements except the first:"
   ]
  },
  {
   "cell_type": "code",
   "execution_count": 125,
   "metadata": {},
   "outputs": [
    {
     "name": "stdout",
     "output_type": "stream",
     "text": [
      "All elements except first element :\n"
     ]
    },
    {
     "data": {
      "text/plain": [
       "[6, 9, 25, 10, 8]"
      ]
     },
     "execution_count": 125,
     "metadata": {},
     "output_type": "execute_result"
    }
   ],
   "source": [
    "array = [ 3,  6,  9,  25, 10,  8]\n",
    "print(\"All elements except first element :\")\n",
    "array[1:]"
   ]
  },
  {
   "cell_type": "raw",
   "metadata": {},
   "source": [
    "2) To get all elements except the last:"
   ]
  },
  {
   "cell_type": "code",
   "execution_count": 126,
   "metadata": {},
   "outputs": [
    {
     "name": "stdout",
     "output_type": "stream",
     "text": [
      "All elements except the last element :\n",
      "[3, 6, 9, 25, 10]\n",
      "Alternate method : \n",
      "[3, 6, 9, 25, 10]\n"
     ]
    }
   ],
   "source": [
    "print(\"All elements except the last element :\")\n",
    "print(array[:5])\n",
    "\n",
    "print(\"Alternate method : \")\n",
    "print(array[0:-1])"
   ]
  },
  {
   "cell_type": "raw",
   "metadata": {},
   "source": [
    "3) To get every other element of the array (operation from the first element):"
   ]
  },
  {
   "cell_type": "code",
   "execution_count": 64,
   "metadata": {},
   "outputs": [
    {
     "name": "stdout",
     "output_type": "stream",
     "text": [
      "Every other element of the array from first element :\n"
     ]
    },
    {
     "data": {
      "text/plain": [
       "[3, 9, 10]"
      ]
     },
     "execution_count": 64,
     "metadata": {},
     "output_type": "execute_result"
    }
   ],
   "source": [
    "print(\"Every other element of the array from first element :\")\n",
    "array[::2]"
   ]
  },
  {
   "cell_type": "raw",
   "metadata": {},
   "source": [
    "4) To get every element of the array (operation from the second element):"
   ]
  },
  {
   "cell_type": "code",
   "execution_count": 129,
   "metadata": {},
   "outputs": [
    {
     "name": "stdout",
     "output_type": "stream",
     "text": [
      "Every element of the array from second element :\n",
      "[6, 25, 8]\n",
      "Alternate solution:\n",
      "[6, 9, 25, 10, 8]\n"
     ]
    }
   ],
   "source": [
    "print(\"Every element of the array from second element :\")\n",
    "print(array[1::2])\n",
    "\n",
    "print(\"Alternate solution:\")\n",
    "print(array[1:])"
   ]
  },
  {
   "cell_type": "raw",
   "metadata": {},
   "source": [
    "5) To reverse the array:"
   ]
  },
  {
   "cell_type": "code",
   "execution_count": 63,
   "metadata": {},
   "outputs": [
    {
     "name": "stdout",
     "output_type": "stream",
     "text": [
      "The reversed array is :\n"
     ]
    },
    {
     "data": {
      "text/plain": [
       "[8, 10, 25, 9, 6, 3]"
      ]
     },
     "execution_count": 63,
     "metadata": {},
     "output_type": "execute_result"
    }
   ],
   "source": [
    "print(\"The reversed array is :\")\n",
    "array[::-1]"
   ]
  },
  {
   "cell_type": "raw",
   "metadata": {},
   "source": []
  },
  {
   "cell_type": "markdown",
   "metadata": {},
   "source": [
    "\n",
    "### 5. Multidimensional Arrays: 4 questions, 20 points, 5 points each\n"
   ]
  },
  {
   "cell_type": "raw",
   "metadata": {},
   "source": [
    "1) create an array with the components as 0-31 and the shape is (8,4)"
   ]
  },
  {
   "cell_type": "code",
   "execution_count": 73,
   "metadata": {},
   "outputs": [
    {
     "name": "stdout",
     "output_type": "stream",
     "text": [
      "The multi-dimensional array is :\n"
     ]
    },
    {
     "data": {
      "text/plain": [
       "array([[ 0,  1,  2,  3],\n",
       "       [ 4,  5,  6,  7],\n",
       "       [ 8,  9, 10, 11],\n",
       "       [12, 13, 14, 15],\n",
       "       [16, 17, 18, 19],\n",
       "       [20, 21, 22, 23],\n",
       "       [24, 25, 26, 27],\n",
       "       [28, 29, 30, 31]])"
      ]
     },
     "execution_count": 73,
     "metadata": {},
     "output_type": "execute_result"
    }
   ],
   "source": [
    "multi = np.arange(0,32).reshape((8,4))\n",
    "print(\"The multi-dimensional array is :\")\n",
    "multi"
   ]
  },
  {
   "cell_type": "raw",
   "metadata": {},
   "source": [
    "2) set the 3rd element in the 1st row to 0\n"
   ]
  },
  {
   "cell_type": "code",
   "execution_count": 74,
   "metadata": {},
   "outputs": [
    {
     "name": "stdout",
     "output_type": "stream",
     "text": [
      "The array is :\n"
     ]
    },
    {
     "data": {
      "text/plain": [
       "array([[ 0,  1,  0,  3],\n",
       "       [ 4,  5,  6,  7],\n",
       "       [ 8,  9, 10, 11],\n",
       "       [12, 13, 14, 15],\n",
       "       [16, 17, 18, 19],\n",
       "       [20, 21, 22, 23],\n",
       "       [24, 25, 26, 27],\n",
       "       [28, 29, 30, 31]])"
      ]
     },
     "execution_count": 74,
     "metadata": {},
     "output_type": "execute_result"
    }
   ],
   "source": [
    "print(\"The array is :\")\n",
    "multi[0,2]=0\n",
    "multi"
   ]
  },
  {
   "cell_type": "raw",
   "metadata": {},
   "source": [
    "3) print the second column\n"
   ]
  },
  {
   "cell_type": "code",
   "execution_count": 80,
   "metadata": {},
   "outputs": [
    {
     "name": "stdout",
     "output_type": "stream",
     "text": [
      "The second column is :\n"
     ]
    },
    {
     "data": {
      "text/plain": [
       "array([[ 1],\n",
       "       [ 5],\n",
       "       [ 9],\n",
       "       [13],\n",
       "       [17],\n",
       "       [21],\n",
       "       [25],\n",
       "       [29]])"
      ]
     },
     "execution_count": 80,
     "metadata": {},
     "output_type": "execute_result"
    }
   ],
   "source": [
    "print(\"The second column is :\")\n",
    "multi[:,[1]]"
   ]
  },
  {
   "cell_type": "raw",
   "metadata": {},
   "source": [
    "4) select any 3x3 region from the array"
   ]
  },
  {
   "cell_type": "code",
   "execution_count": 98,
   "metadata": {},
   "outputs": [
    {
     "name": "stdout",
     "output_type": "stream",
     "text": [
      "The 3x3 region from the above array is as shown below :\n"
     ]
    },
    {
     "data": {
      "text/plain": [
       "array([[ 0,  1,  0],\n",
       "       [ 4,  5,  6],\n",
       "       [ 8,  9, 10]])"
      ]
     },
     "execution_count": 98,
     "metadata": {},
     "output_type": "execute_result"
    }
   ],
   "source": [
    "print(\"The 3x3 region from the above array is as shown below :\")\n",
    "multi_small=multi[:3,:3]\n",
    "multi_small"
   ]
  },
  {
   "cell_type": "raw",
   "metadata": {},
   "source": []
  },
  {
   "cell_type": "markdown",
   "metadata": {},
   "source": [
    "### 6. Broadcasting: 40 points\n",
    "\n",
    "1. Please add the following two arrays. You can reshape the array by np.reshape or 'newaxis'. (20 points)"
   ]
  },
  {
   "cell_type": "raw",
   "metadata": {},
   "source": [
    "1) do: a+b (10 points)\n",
    "a = np.array([0.0, 10.0, 20.0, 30.0])\n",
    "b = np.array([1.0, 2.0, 3.0])\n"
   ]
  },
  {
   "cell_type": "code",
   "execution_count": 92,
   "metadata": {},
   "outputs": [
    {
     "name": "stdout",
     "output_type": "stream",
     "text": [
      "The final array is :\n"
     ]
    },
    {
     "data": {
      "text/plain": [
       "array([[ 1.,  2.,  3.],\n",
       "       [11., 12., 13.],\n",
       "       [21., 22., 23.],\n",
       "       [31., 32., 33.]])"
      ]
     },
     "execution_count": 92,
     "metadata": {},
     "output_type": "execute_result"
    }
   ],
   "source": [
    "a = np.array([0.0, 10.0, 20.0, 30.0])\n",
    "b = np.array([1.0, 2.0, 3.0])\n",
    "final = a[:,np.newaxis] + b\n",
    "print(\"The final array is :\")\n",
    "final"
   ]
  },
  {
   "cell_type": "raw",
   "metadata": {},
   "source": [
    "2) do x+y (10 points)\n",
    "x = np.arange(4)\n",
    "y = np.ones(5)\n"
   ]
  },
  {
   "cell_type": "code",
   "execution_count": 131,
   "metadata": {},
   "outputs": [
    {
     "name": "stdout",
     "output_type": "stream",
     "text": [
      "[0 1 2 3]\n",
      "[1. 1. 1. 1. 1.]\n",
      "The final array is :\n",
      "[[1. 1. 1. 1. 1.]\n",
      " [2. 2. 2. 2. 2.]\n",
      " [3. 3. 3. 3. 3.]\n",
      " [4. 4. 4. 4. 4.]]\n"
     ]
    }
   ],
   "source": [
    "x = np.arange(4)\n",
    "y = np.ones(5)\n",
    "print(x)\n",
    "print(y)\n",
    "final = x[:,np.newaxis] + y\n",
    "print(\"The final array is :\")\n",
    "print(final)"
   ]
  },
  {
   "cell_type": "raw",
   "metadata": {},
   "source": [
    "2. Write a 6x6 times table matrix \n",
    "    - by using numpy broadcasting (10 points) \n",
    "    - by using Python nested for-loop (10 points)."
   ]
  },
  {
   "cell_type": "code",
   "execution_count": 108,
   "metadata": {},
   "outputs": [
    {
     "name": "stdout",
     "output_type": "stream",
     "text": [
      "6*6 Time-Table matrix using numpy broadcasting :\n",
      "[1 2 3 4 5 6]\n",
      "[1 2 3 4 5 6]\n",
      "[[ 1  2  3  4  5  6]\n",
      " [ 2  4  6  8 10 12]\n",
      " [ 3  6  9 12 15 18]\n",
      " [ 4  8 12 16 20 24]\n",
      " [ 5 10 15 20 25 30]\n",
      " [ 6 12 18 24 30 36]]\n"
     ]
    }
   ],
   "source": [
    "#Using Numpy Broadcasting :\n",
    "print(\"6*6 Time-Table matrix using numpy broadcasting :\")\n",
    "array_one=np.arange(1,7)\n",
    "array_two=np.arange(1,7)\n",
    "array_final = a[:,np.newaxis]*b\n",
    "print(array_one)\n",
    "print(array_two)\n",
    "print(array_final)"
   ]
  },
  {
   "cell_type": "code",
   "execution_count": 132,
   "metadata": {},
   "outputs": [
    {
     "name": "stdout",
     "output_type": "stream",
     "text": [
      "6*6 Time-Table matrix using Python nested for-loop :\n",
      "[[ 1.  2.  3.  4.  5.  6.]\n",
      " [ 2.  4.  6.  8. 10. 12.]\n",
      " [ 3.  6.  9. 12. 15. 18.]\n",
      " [ 4.  8. 12. 16. 20. 24.]\n",
      " [ 5. 10. 15. 20. 25. 30.]\n",
      " [ 6. 12. 18. 24. 30. 36.]]\n"
     ]
    }
   ],
   "source": [
    "#Using Python Nested for-loop :\n",
    "print(\"6*6 Time-Table matrix using Python nested for-loop :\")\n",
    "array_one=np.ones((6,6))\n",
    "array_two=np.array([1,2,3,4,5,6])\n",
    "\n",
    "for row in range(6):\n",
    "    for column in range(6):\n",
    "        array_one[row,column] = array_one[row,column]*array_two[row]\n",
    "        array_one[row,column] = array_one[row,column]*array_two[column]\n",
    "print(array_one)\n"
   ]
  }
 ],
 "metadata": {
  "kernelspec": {
   "display_name": "Python 3",
   "language": "python",
   "name": "python3"
  },
  "language_info": {
   "codemirror_mode": {
    "name": "ipython",
    "version": 3
   },
   "file_extension": ".py",
   "mimetype": "text/x-python",
   "name": "python",
   "nbconvert_exporter": "python",
   "pygments_lexer": "ipython3",
   "version": "3.7.3"
  }
 },
 "nbformat": 4,
 "nbformat_minor": 4
}
